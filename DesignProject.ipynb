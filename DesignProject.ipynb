{
  "nbformat": 4,
  "nbformat_minor": 0,
  "metadata": {
    "colab": {
      "provenance": []
    },
    "kernelspec": {
      "name": "python3",
      "display_name": "Python 3"
    },
    "language_info": {
      "name": "python"
    }
  },
  "cells": [
    {
      "cell_type": "code",
      "source": [
        "# Import Libraries\n",
        "import numpy as np\n",
        "import pandas as pd\n",
        "import tensorflow as tf\n",
        "from sklearn.ensemble import RandomForestClassifier, RandomForestRegressor\n",
        "from xgboost import XGBClassifier, XGBRegressor\n",
        "from sklearn.model_selection import train_test_split\n",
        "from sklearn.preprocessing import StandardScaler, OneHotEncoder\n",
        "from sklearn.metrics import accuracy_score, classification_report, mean_squared_error\n",
        "import matplotlib.pyplot as plt\n",
        "import seaborn as sns\n",
        "from sklearn.preprocessing import LabelEncoder"
      ],
      "metadata": {
        "id": "O60a-T-gG0-E"
      },
      "execution_count": null,
      "outputs": []
    },
    {
      "cell_type": "code",
      "source": [
        "# Load Data\n",
        "crop_data = pd.read_csv(\"Crop_recommendation.csv\")  # Crop recommendation dataset\n",
        "fertilizer_data = pd.read_csv(\"Fertilizer_Prediction.csv\")  # Fertilizer recommendation dataset\n",
        "yield_data = pd.read_csv(\"yield_df.csv\")  # Crop yield prediction dataset"
      ],
      "metadata": {
        "id": "9fWICKUz169S"
      },
      "execution_count": 7,
      "outputs": []
    },
    {
      "cell_type": "code",
      "source": [
        "print(fertilizer_data.head(5))"
      ],
      "metadata": {
        "colab": {
          "base_uri": "https://localhost:8080/"
        },
        "id": "PBS_CLgH9H6v",
        "outputId": "6cc7b989-1402-4692-8e73-3ac3378a1511"
      },
      "execution_count": null,
      "outputs": [
        {
          "output_type": "stream",
          "name": "stdout",
          "text": [
            "   Temparature  Humidity   Moisture  Soil Type  Crop Type  Nitrogen  \\\n",
            "0           26         52        38          4          3        37   \n",
            "1           29         52        45          2          8        12   \n",
            "2           34         65        62          0          1         7   \n",
            "3           32         62        34          3          9        22   \n",
            "4           28         54        46          1          6        35   \n",
            "\n",
            "   Potassium  Phosphorous  Fertilizer Name  \n",
            "0          0            0                6  \n",
            "1          0           36                5  \n",
            "2          9           30                1  \n",
            "3          0           20                4  \n",
            "4          0            0                6  \n"
          ]
        }
      ]
    },
    {
      "cell_type": "code",
      "source": [
        "print(crop_data.shape)"
      ],
      "metadata": {
        "colab": {
          "base_uri": "https://localhost:8080/"
        },
        "id": "dtoI2N7nHVNG",
        "outputId": "fafd62c5-f613-45bb-b822-695b96576e08"
      },
      "execution_count": null,
      "outputs": [
        {
          "output_type": "stream",
          "name": "stdout",
          "text": [
            "(2200, 8)\n"
          ]
        }
      ]
    },
    {
      "cell_type": "code",
      "source": [
        "print(fertilizer_data.shape)"
      ],
      "metadata": {
        "colab": {
          "base_uri": "https://localhost:8080/"
        },
        "id": "tXTq3LJBEMpm",
        "outputId": "124ac146-4de3-42fd-86e3-15c6249a9cfb"
      },
      "execution_count": null,
      "outputs": [
        {
          "output_type": "stream",
          "name": "stdout",
          "text": [
            "(99, 9)\n"
          ]
        }
      ]
    },
    {
      "cell_type": "code",
      "source": [
        "# Initialize separate encoders for each column\n",
        "soil_type_le = LabelEncoder()\n",
        "crop_type_le = LabelEncoder()\n",
        "fertilizer_name_le = LabelEncoder()\n",
        "\n",
        "# Apply LabelEncoder to each categorical column\n",
        "fertilizer_data['Soil Type'] = soil_type_le.fit_transform(fertilizer_data['Soil Type'])\n",
        "fertilizer_data['Crop Type'] = crop_type_le.fit_transform(fertilizer_data['Crop Type'])\n",
        "fertilizer_data['Fertilizer Name'] = fertilizer_name_le.fit_transform(fertilizer_data['Fertilizer Name'])\n",
        "\n",
        "# For crop data\n",
        "crop_le = LabelEncoder()\n",
        "crop_data['label'] = crop_le.fit_transform(crop_data['label'])\n",
        "\n",
        "# For yield data\n",
        "yield_le = LabelEncoder()\n",
        "yield_data['Item'] = yield_le.fit_transform(yield_data['Item'])\n"
      ],
      "metadata": {
        "id": "0L3A3c1XlGr0"
      },
      "execution_count": 8,
      "outputs": []
    },
    {
      "cell_type": "code",
      "source": [
        "from imblearn.over_sampling import SMOTE\n",
        "from sklearn.ensemble import RandomForestClassifier\n",
        "from sklearn.model_selection import train_test_split\n",
        "from sklearn.metrics import precision_score, recall_score, f1_score, accuracy_score\n",
        "import numpy as np\n",
        "import pandas as pd\n",
        "\n",
        "# Features and target\n",
        "X_rf = crop_data[['N', 'P', 'K', 'temperature', 'humidity', 'ph', 'rainfall']]\n",
        "y_rf = crop_data['label']\n",
        "\n",
        "# Train-test split\n",
        "X_train_rf, X_test_rf, y_train_rf, y_test_rf = train_test_split(X_rf, y_rf, test_size=0.2, random_state=42)\n",
        "\n",
        "# Apply SMOTE\n",
        "smote_rf = SMOTE(random_state=42)\n",
        "X_train_smote_rf, y_train_smote_rf = smote_rf.fit_resample(X_train_rf, y_train_rf)\n",
        "\n",
        "# Add Gaussian noise\n",
        "noise_factor_rf = 0.01\n",
        "X_train_smote_noisy_rf = X_train_smote_rf + noise_factor_rf * np.random.randn(*X_train_smote_rf.shape)\n",
        "\n",
        "# Convert to DataFrame\n",
        "X_train_smote_noisy_rf = pd.DataFrame(X_train_smote_noisy_rf, columns=X_rf.columns)\n",
        "\n",
        "# Clip noisy data within bounds of each feature\n",
        "for col in X_rf.columns:\n",
        "    X_train_smote_noisy_rf[col] = np.clip(X_train_smote_noisy_rf[col], X_rf[col].min(), X_rf[col].max())\n",
        "\n",
        "# Train the Random Forest model\n",
        "rf_model = RandomForestClassifier(random_state=42)\n",
        "rf_model.fit(X_train_smote_noisy_rf, y_train_smote_rf)\n",
        "\n",
        "# Evaluate\n",
        "y_pred_rf = rf_model.predict(X_test_rf)\n",
        "accuracy_rf = accuracy_score(y_test_rf, y_pred_rf)\n",
        "precision_rf = precision_score(y_test_rf, y_pred_rf, average='weighted')\n",
        "recall_rf = recall_score(y_test_rf, y_pred_rf, average='weighted')\n",
        "f1_rf = f1_score(y_test_rf, y_pred_rf, average='weighted')\n",
        "\n",
        "# Output\n",
        "print(f\"Random Forest Accuracy: {accuracy_rf:.3f}\")\n",
        "print(f\"Precision: {precision_rf:.3f}\")\n",
        "print(f\"Recall: {recall_rf:.3f}\")\n",
        "print(f\"F1-Score: {f1_rf:.3f}\")\n",
        "\n",
        "# Feature Importance (Optional)\n",
        "feature_importances = rf_model.feature_importances_\n",
        "print(\"Feature Importances:\")\n",
        "for feature, importance in zip(X_rf.columns, feature_importances):\n",
        "    print(f\"{feature}: {importance:.3f}\")\n"
      ],
      "metadata": {
        "colab": {
          "base_uri": "https://localhost:8080/"
        },
        "id": "9Z3lfk3s1_AO",
        "outputId": "bbd2bf80-3ab7-42c9-e60d-771afabb6409"
      },
      "execution_count": null,
      "outputs": [
        {
          "output_type": "stream",
          "name": "stdout",
          "text": [
            "Random Forest Accuracy: 0.993\n",
            "Precision: 0.994\n",
            "Recall: 0.993\n",
            "F1-Score: 0.993\n",
            "Feature Importances:\n",
            "N: 0.106\n",
            "P: 0.148\n",
            "K: 0.176\n",
            "temperature: 0.073\n",
            "humidity: 0.216\n",
            "ph: 0.055\n",
            "rainfall: 0.225\n"
          ]
        }
      ]
    },
    {
      "cell_type": "code",
      "source": [
        "print(f\"Number of trees (n_estimators): {rf_model.n_estimators}\")\n",
        "print(f\"Number of features per split (max_features): {rf_model.max_features}\")\n",
        "print(f\"Criterion for splitting: {rf_model.criterion}\")"
      ],
      "metadata": {
        "colab": {
          "base_uri": "https://localhost:8080/"
        },
        "id": "xeZzupsLZKhT",
        "outputId": "8f866403-2f1e-4298-c2c4-407b0d271012"
      },
      "execution_count": null,
      "outputs": [
        {
          "output_type": "stream",
          "name": "stdout",
          "text": [
            "Number of trees (n_estimators): 100\n",
            "Number of features per split (max_features): sqrt\n",
            "Criterion for splitting: gini\n"
          ]
        }
      ]
    },
    {
      "cell_type": "code",
      "source": [
        "from sklearn.model_selection import cross_val_score\n",
        "cv_scores = cross_val_score(rf_model, X_rf, y_rf, cv=5)\n",
        "print(f\"Cross-validated Accuracy: {cv_scores.mean()}\")"
      ],
      "metadata": {
        "colab": {
          "base_uri": "https://localhost:8080/"
        },
        "id": "FuVNEd0JRSlK",
        "outputId": "dc073596-2a54-45a3-dd10-0e5d29ba311b"
      },
      "execution_count": null,
      "outputs": [
        {
          "output_type": "stream",
          "name": "stdout",
          "text": [
            "Cross-validated Accuracy: 0.9945454545454545\n"
          ]
        }
      ]
    },
    {
      "cell_type": "code",
      "source": [
        "from imblearn.over_sampling import SMOTE\n",
        "from sklearn.tree import DecisionTreeClassifier\n",
        "from sklearn.model_selection import train_test_split\n",
        "from sklearn.metrics import accuracy_score, precision_score, recall_score, f1_score\n",
        "import numpy as np\n",
        "\n",
        "# Features and target\n",
        "X_dt = crop_data[['N', 'P', 'K', 'temperature', 'humidity', 'ph', 'rainfall']]\n",
        "y_dt = crop_data['label']\n",
        "\n",
        "# Train-test split\n",
        "X_train_dt, X_test_dt, y_train_dt, y_test_dt = train_test_split(X_dt, y_dt, test_size=0.2, random_state=42)\n",
        "\n",
        "# Apply SMOTE\n",
        "smote_dt = SMOTE(random_state=42)\n",
        "X_train_smote_dt, y_train_smote_dt = smote_dt.fit_resample(X_train_dt, y_train_dt)\n",
        "\n",
        "# Add Gaussian noise\n",
        "noise_factor_dt = 0.01\n",
        "X_train_smote_noisy_dt = X_train_smote_dt + noise_factor_dt * np.random.randn(*X_train_smote_dt.shape)\n",
        "X_train_smote_noisy_dt = pd.DataFrame(X_train_smote_noisy_dt, columns=X_dt.columns)\n",
        "\n",
        "# Ensure noisy data stays within bounds\n",
        "for col in X_dt.columns:\n",
        "    X_train_smote_noisy_dt[col] = np.clip(X_train_smote_noisy_dt[col], X_dt[col].min(), X_dt[col].max())\n",
        "\n",
        "# Train the Decision Tree model\n",
        "dt_model = DecisionTreeClassifier(criterion='gini', random_state=42)\n",
        "dt_model.fit(X_train_smote_noisy_dt, y_train_smote_dt)\n",
        "\n",
        "# Evaluate\n",
        "y_pred_dt = dt_model.predict(X_test_dt)\n",
        "accuracy_dt = accuracy_score(y_test_dt, y_pred_dt)\n",
        "precision_dt = precision_score(y_test_dt, y_pred_dt, average='weighted')\n",
        "recall_dt = recall_score(y_test_dt, y_pred_dt, average='weighted')\n",
        "f1_dt = f1_score(y_test_dt, y_pred_dt, average='weighted')\n",
        "\n",
        "# Output\n",
        "print(f\"Decision Tree Accuracy: {accuracy_dt:.3f}\")\n",
        "print(f\"Precision: {precision_dt:.3f}\")\n",
        "print(f\"Recall: {recall_dt:.3f}\")\n",
        "print(f\"F1-Score: {f1_dt:.3f}\")"
      ],
      "metadata": {
        "colab": {
          "base_uri": "https://localhost:8080/"
        },
        "id": "7TvgNE9vAGng",
        "outputId": "e49800c4-bce6-430a-cdb2-248230f58c19"
      },
      "execution_count": null,
      "outputs": [
        {
          "output_type": "stream",
          "name": "stdout",
          "text": [
            "Decision Tree Accuracy: 0.989\n",
            "Precision: 0.989\n",
            "Recall: 0.989\n",
            "F1-Score: 0.989\n"
          ]
        }
      ]
    },
    {
      "cell_type": "code",
      "source": [
        "import xgboost as xgb\n",
        "from xgboost import XGBClassifier\n",
        "from imblearn.over_sampling import SMOTE\n",
        "from sklearn.metrics import accuracy_score, precision_score, recall_score, f1_score\n",
        "import numpy as np\n",
        "\n",
        "# Features and target\n",
        "X_xgb = crop_data[['N', 'P', 'K', 'temperature', 'humidity', 'ph', 'rainfall']]\n",
        "y_xgb = crop_data['label']\n",
        "\n",
        "# Train-test split\n",
        "X_train_xgb, X_test_xgb, y_train_xgb, y_test_xgb = train_test_split(X_xgb, y_xgb, test_size=0.2, random_state=42)\n",
        "\n",
        "# Apply SMOTE\n",
        "smote_xgb = SMOTE(random_state=42)\n",
        "X_train_smote_xgb, y_train_smote_xgb = smote_xgb.fit_resample(X_train_xgb, y_train_xgb)\n",
        "\n",
        "# Add Gaussian noise\n",
        "noise_factor_xgb = 0.01\n",
        "X_train_smote_noisy_xgb = X_train_smote_xgb + noise_factor_xgb * np.random.randn(*X_train_smote_xgb.shape)\n",
        "X_train_smote_noisy_xgb = pd.DataFrame(X_train_smote_noisy_xgb, columns=X_xgb.columns)\n",
        "# Ensure noisy data stays within bounds\n",
        "for col in X_xgb.columns:\n",
        "    X_train_smote_noisy_xgb[col] = np.clip(X_train_smote_noisy_xgb[col], X_xgb[col].min(), X_xgb[col].max())\n",
        "\n",
        "# Train the XGBoost model\n",
        "xgb_model = XGBClassifier(\n",
        "    objective='multi:softmax',\n",
        "    num_class=len(set(y_train_smote_xgb)),\n",
        "    max_depth=3,\n",
        "    learning_rate=0.1,\n",
        "    n_estimators=100\n",
        ")\n",
        "xgb_model.fit(X_train_smote_noisy_xgb, y_train_smote_xgb)\n",
        "\n",
        "# Evaluate\n",
        "y_pred_xgb = xgb_model.predict(X_test_xgb)\n",
        "accuracy_xgb = accuracy_score(y_test_xgb, y_pred_xgb)\n",
        "precision_xgb = precision_score(y_test_xgb, y_pred_xgb, average='weighted')\n",
        "recall_xgb = recall_score(y_test_xgb, y_pred_xgb, average='weighted')\n",
        "f1_xgb = f1_score(y_test_xgb, y_pred_xgb, average='weighted')\n",
        "\n",
        "# Output\n",
        "print(f\"XGBoost Accuracy: {accuracy_xgb:.3f}\")\n",
        "print(f\"Precision: {precision_xgb:.3f}\")\n",
        "print(f\"Recall: {recall_xgb:.3f}\")\n",
        "print(f\"F1-Score: {f1_xgb:.3f}\")\n"
      ],
      "metadata": {
        "colab": {
          "base_uri": "https://localhost:8080/"
        },
        "id": "LB_7Y21iCq-T",
        "outputId": "b72d33ef-2108-437c-8cd3-a34c119cfdb9"
      },
      "execution_count": null,
      "outputs": [
        {
          "output_type": "stream",
          "name": "stdout",
          "text": [
            "XGBoost Accuracy: 0.986\n",
            "Precision: 0.987\n",
            "Recall: 0.986\n",
            "F1-Score: 0.986\n"
          ]
        }
      ]
    },
    {
      "cell_type": "code",
      "source": [
        "from sklearn.model_selection import cross_val_score\n",
        "from sklearn.metrics import classification_report\n",
        "\n",
        "cv_scores = cross_val_score(xgb_model, X_train_smote_noisy_xgb, y_train_smote_xgb, cv=5)\n",
        "print(f\"Cross-validated Accuracy: {cv_scores.mean()}\")\n",
        "print(classification_report(y_pred_xgb, y_test_xgb))"
      ],
      "metadata": {
        "colab": {
          "base_uri": "https://localhost:8080/"
        },
        "id": "3EAVDG0r8pvn",
        "outputId": "73aae217-38d9-43ad-8656-4f9dac03ed62"
      },
      "execution_count": null,
      "outputs": [
        {
          "output_type": "stream",
          "name": "stdout",
          "text": [
            "Cross-validated Accuracy: 0.9903009029698835\n",
            "              precision    recall  f1-score   support\n",
            "\n",
            "           0       1.00      1.00      1.00        23\n",
            "           1       0.95      1.00      0.98        20\n",
            "           2       1.00      0.95      0.98        21\n",
            "           3       1.00      1.00      1.00        26\n",
            "           4       1.00      1.00      1.00        27\n",
            "           5       1.00      1.00      1.00        17\n",
            "           6       1.00      0.94      0.97        18\n",
            "           7       1.00      1.00      1.00        14\n",
            "           8       1.00      0.88      0.94        26\n",
            "           9       1.00      1.00      1.00        20\n",
            "          10       1.00      0.92      0.96        12\n",
            "          11       0.95      1.00      0.98        20\n",
            "          12       1.00      0.95      0.97        20\n",
            "          13       0.96      1.00      0.98        23\n",
            "          14       1.00      1.00      1.00        19\n",
            "          15       1.00      1.00      1.00        17\n",
            "          16       1.00      1.00      1.00        14\n",
            "          17       1.00      1.00      1.00        23\n",
            "          18       0.91      1.00      0.95        21\n",
            "          19       1.00      1.00      1.00        23\n",
            "          20       0.89      1.00      0.94        17\n",
            "          21       1.00      1.00      1.00        19\n",
            "\n",
            "    accuracy                           0.98       440\n",
            "   macro avg       0.99      0.98      0.98       440\n",
            "weighted avg       0.99      0.98      0.98       440\n",
            "\n"
          ]
        }
      ]
    },
    {
      "cell_type": "code",
      "source": [
        "import matplotlib.pyplot as plt\n",
        "\n",
        "# Accuracies of the three classifiers\n",
        "model_names = ['Random Forest', 'Decision Tree', 'XGBoost']\n",
        "accuracies = [accuracy_rf, accuracy_dt, accuracy_xgb]\n",
        "\n",
        "# Plotting the bar chart with accuracy on the x-axis and models on the y-axis\n",
        "plt.figure(figsize=(8, 2))\n",
        "plt.barh(model_names, accuracies, color=['blue', 'green', 'orange'], alpha=0.7, height=0.5)\n",
        "\n",
        "# Adding labels and title\n",
        "plt.xlabel('Accuracy', fontsize=12)\n",
        "plt.ylabel('Models', fontsize=12)\n",
        "plt.xlim(0, 1)  # Accuracy is a value between 0 and 1\n",
        "\n",
        "# Displaying the accuracy values on the bars\n",
        "for i, acc in enumerate(accuracies):\n",
        "    plt.text(acc + 0.02, i, f\"{acc:.3f}\", va='center', fontsize=10)\n",
        "\n",
        "# Displaying the graph\n",
        "plt.tight_layout()\n",
        "plt.show()\n"
      ],
      "metadata": {
        "colab": {
          "base_uri": "https://localhost:8080/",
          "height": 207
        },
        "id": "qMBpJTl82G7F",
        "outputId": "eb224ce8-550e-4fed-bd61-b0d4636952fc"
      },
      "execution_count": null,
      "outputs": [
        {
          "output_type": "display_data",
          "data": {
            "text/plain": [
              "<Figure size 800x200 with 1 Axes>"
            ],
            "image/png": "[encoded data removed]"
          },
          "metadata": {}
        }
      ]
    },
    {
      "cell_type": "code",
      "source": [
        "print(fertilizer_data.head(5))"
      ],
      "metadata": {
        "colab": {
          "base_uri": "https://localhost:8080/"
        },
        "id": "h0e5mV038_jp",
        "outputId": "0c61d6e2-72dc-49ca-856b-dc5646b6dc07"
      },
      "execution_count": null,
      "outputs": [
        {
          "output_type": "stream",
          "name": "stdout",
          "text": [
            "   Temparature  Humidity   Moisture  Soil Type  Crop Type  Nitrogen  \\\n",
            "0           26         52        38          4          3        37   \n",
            "1           29         52        45          2          8        12   \n",
            "2           34         65        62          0          1         7   \n",
            "3           32         62        34          3          9        22   \n",
            "4           28         54        46          1          6        35   \n",
            "\n",
            "   Potassium  Phosphorous  Fertilizer Name  \n",
            "0          0            0                6  \n",
            "1          0           36                5  \n",
            "2          9           30                1  \n",
            "3          0           20                4  \n",
            "4          0            0                6  \n"
          ]
        }
      ]
    },
    {
      "cell_type": "code",
      "source": [
        "from sklearn.ensemble import RandomForestClassifier\n",
        "from sklearn.tree import DecisionTreeClassifier\n",
        "from xgboost import XGBClassifier\n",
        "from sklearn.model_selection import train_test_split\n",
        "from sklearn.metrics import accuracy_score, classification_report\n",
        "from imblearn.over_sampling import SMOTE\n",
        "from collections import Counter\n",
        "import pandas as pd\n",
        "import numpy as np\n",
        "\n",
        "# Assume `fertilizer_data` is loaded with the required columns\n",
        "X = fertilizer_data[['Temparature', 'Humidity ', 'Moisture', 'Soil Type', 'Crop Type', 'Nitrogen', 'Potassium', 'Phosphorous']]\n",
        "y = fertilizer_data['Fertilizer Name']\n",
        "\n",
        "# Train-test split\n",
        "X_train, X_test, y_train, y_test = train_test_split(X, y, test_size=0.2, random_state=42)\n",
        "\n",
        "# Check class distribution\n",
        "print(f\"Original class distribution: {Counter(y_train)}\")\n",
        "\n",
        "# Handle imbalance with SMOTE\n",
        "min_class_size = min(Counter(y_train).values())\n",
        "k_neighbors = min(5, min_class_size - 1)  # Adjust k_neighbors dynamically\n",
        "smote = SMOTE(random_state=42, k_neighbors=k_neighbors)\n",
        "\n",
        "X_train_smote, y_train_smote = smote.fit_resample(X_train, y_train)\n",
        "\n",
        "# Verify new class distribution\n",
        "print(f\"Resampled class distribution: {Counter(y_train_smote)}\")\n",
        "\n",
        "# Optionally, add noise to the training data for robustness\n",
        "noise_factor = 0.01\n",
        "X_train_smote_noisy = X_train_smote + noise_factor * np.random.randn(*X_train_smote.shape)\n"
      ],
      "metadata": {
        "colab": {
          "base_uri": "https://localhost:8080/"
        },
        "id": "Z3NkugxtDyc8",
        "outputId": "ce87a476-7cf3-4219-9d48-f2c1e18af502"
      },
      "execution_count": 9,
      "outputs": [
        {
          "output_type": "stream",
          "name": "stdout",
          "text": [
            "Original class distribution: Counter({6: 16, 1: 13, 5: 13, 3: 13, 4: 12, 2: 7, 0: 5})\n",
            "Resampled class distribution: Counter({1: 16, 4: 16, 0: 16, 2: 16, 5: 16, 6: 16, 3: 16})\n"
          ]
        }
      ]
    },
    {
      "cell_type": "code",
      "source": [
        "# Random Forest Classifier\n",
        "rf_model = RandomForestClassifier(random_state=42)\n",
        "rf_model.fit(X_train_smote_noisy, y_train_smote)\n",
        "\n",
        "# Evaluate Random Forest\n",
        "y_pred_rf = rf_model.predict(X_test)\n",
        "\n",
        "# Results\n",
        "rf_accuracy = accuracy_score(y_test, y_pred_rf)\n",
        "print(f\"Random Forest Accuracy: {rf_accuracy}\")\n",
        "print(\"Random Forest Classification Report:\\n\", classification_report(y_test, y_pred_rf))\n"
      ],
      "metadata": {
        "colab": {
          "base_uri": "https://localhost:8080/"
        },
        "id": "qBQbVEd0Cv7d",
        "outputId": "29ed958f-1d20-4f45-cd7b-8851ff0cbdc8"
      },
      "execution_count": 10,
      "outputs": [
        {
          "output_type": "stream",
          "name": "stdout",
          "text": [
            "Random Forest Accuracy: 1.0\n",
            "Random Forest Classification Report:\n",
            "               precision    recall  f1-score   support\n",
            "\n",
            "           0       1.00      1.00      1.00         2\n",
            "           1       1.00      1.00      1.00         1\n",
            "           3       1.00      1.00      1.00         1\n",
            "           4       1.00      1.00      1.00         5\n",
            "           5       1.00      1.00      1.00         5\n",
            "           6       1.00      1.00      1.00         6\n",
            "\n",
            "    accuracy                           1.00        20\n",
            "   macro avg       1.00      1.00      1.00        20\n",
            "weighted avg       1.00      1.00      1.00        20\n",
            "\n"
          ]
        }
      ]
    },
    {
      "cell_type": "code",
      "source": [
        "# Decision Tree Classifier\n",
        "dt_model = DecisionTreeClassifier(random_state=40)\n",
        "dt_model.fit(X_train_smote_noisy, y_train_smote)\n",
        "\n",
        "# Evaluate Decision Tree\n",
        "y_pred_dt = dt_model.predict(X_test)\n",
        "\n",
        "# Results\n",
        "dt_accuracy = accuracy_score(y_test, y_pred_dt)\n",
        "print(f\"Decision Tree Accuracy: {dt_accuracy}\")\n",
        "print(\"Decision Tree Classification Report:\\n\", classification_report(y_test, y_pred_dt))\n"
      ],
      "metadata": {
        "colab": {
          "base_uri": "https://localhost:8080/"
        },
        "id": "5OyBX3kl8vIG",
        "outputId": "f75471ee-057e-4452-9fd1-0586e9716518"
      },
      "execution_count": 11,
      "outputs": [
        {
          "output_type": "stream",
          "name": "stdout",
          "text": [
            "Decision Tree Accuracy: 1.0\n",
            "Decision Tree Classification Report:\n",
            "               precision    recall  f1-score   support\n",
            "\n",
            "           0       1.00      1.00      1.00         2\n",
            "           1       1.00      1.00      1.00         1\n",
            "           3       1.00      1.00      1.00         1\n",
            "           4       1.00      1.00      1.00         5\n",
            "           5       1.00      1.00      1.00         5\n",
            "           6       1.00      1.00      1.00         6\n",
            "\n",
            "    accuracy                           1.00        20\n",
            "   macro avg       1.00      1.00      1.00        20\n",
            "weighted avg       1.00      1.00      1.00        20\n",
            "\n"
          ]
        }
      ]
    },
    {
      "cell_type": "code",
      "source": [
        "# Extreme Gradient Boosting (XGBoost) Classifier\n",
        "xgb_model = XGBClassifier(objective=\"multi:softmax\", num_class=len(y.unique()), random_state=42)\n",
        "xgb_model.fit(X_train_smote_noisy, y_train_smote)\n",
        "\n",
        "# Evaluate XGBoost\n",
        "y_pred_xgb = xgb_model.predict(X_test)\n",
        "\n",
        "# Results\n",
        "xgb_accuracy = accuracy_score(y_test, y_pred_xgb)\n",
        "print(f\"XGBoost Accuracy: {xgb_accuracy}\")\n",
        "print(\"XGBoost Classification Report:\\n\", classification_report(y_test, y_pred_xgb))\n"
      ],
      "metadata": {
        "colab": {
          "base_uri": "https://localhost:8080/"
        },
        "id": "gZTxN7Y7DBTT",
        "outputId": "6213c62a-f748-4889-8fb7-941e815581b0"
      },
      "execution_count": 12,
      "outputs": [
        {
          "output_type": "stream",
          "name": "stdout",
          "text": [
            "XGBoost Accuracy: 1.0\n",
            "XGBoost Classification Report:\n",
            "               precision    recall  f1-score   support\n",
            "\n",
            "           0       1.00      1.00      1.00         2\n",
            "           1       1.00      1.00      1.00         1\n",
            "           3       1.00      1.00      1.00         1\n",
            "           4       1.00      1.00      1.00         5\n",
            "           5       1.00      1.00      1.00         5\n",
            "           6       1.00      1.00      1.00         6\n",
            "\n",
            "    accuracy                           1.00        20\n",
            "   macro avg       1.00      1.00      1.00        20\n",
            "weighted avg       1.00      1.00      1.00        20\n",
            "\n"
          ]
        }
      ]
    },
    {
      "cell_type": "code",
      "source": [
        "from sklearn.ensemble import RandomForestClassifier\n",
        "from xgboost import XGBClassifier\n",
        "from sklearn.model_selection import train_test_split\n",
        "from sklearn.metrics import accuracy_score, classification_report\n",
        "from imblearn.over_sampling import SMOTE\n",
        "import pandas as pd\n",
        "import numpy as np\n",
        "from collections import Counter\n",
        "\n",
        "# Assume `fertilizer_data` is loaded with required columns\n",
        "X = fertilizer_data[['Temparature', 'Humidity ', 'Moisture', 'Soil Type', 'Crop Type', 'Nitrogen', 'Potassium', 'Phosphorous']]\n",
        "y = fertilizer_data['Fertilizer Name']\n",
        "\n",
        "# Train-test split\n",
        "X_train, X_test, y_train, y_test = train_test_split(X, y, test_size=0.2, random_state=42)\n",
        "\n",
        "# Check class distribution\n",
        "print(f\"Original class distribution: {Counter(y_train)}\")\n",
        "\n",
        "# Handle imbalance with SMOTE\n",
        "smote = SMOTE(random_state=42, k_neighbors=min(5, min(Counter(y_train).values()) - 1))\n",
        "X_train_smote, y_train_smote = smote.fit_resample(X_train, y_train)\n",
        "\n",
        "# Verify new class distribution\n",
        "print(f\"Resampled class distribution: {Counter(y_train_smote)}\")\n"
      ],
      "metadata": {
        "colab": {
          "base_uri": "https://localhost:8080/"
        },
        "id": "8TFfsf-ZWbMw",
        "outputId": "62454d50-8617-4624-e22e-aca29b6c4f8c"
      },
      "execution_count": 28,
      "outputs": [
        {
          "output_type": "stream",
          "name": "stdout",
          "text": [
            "Original class distribution: Counter({6: 16, 1: 13, 5: 13, 3: 13, 4: 12, 2: 7, 0: 5})\n",
            "Resampled class distribution: Counter({1: 16, 4: 16, 0: 16, 2: 16, 5: 16, 6: 16, 3: 16})\n"
          ]
        }
      ]
    },
    {
      "cell_type": "code",
      "source": [
        "# Random Forest for Feature Selection\n",
        "rf_model = RandomForestClassifier(random_state=42)\n",
        "rf_model.fit(X_train_smote_noisy, y_train_smote)\n",
        "\n",
        "# Get feature importance scores\n",
        "feature_importances = rf_model.feature_importances_\n",
        "\n",
        "# Select top-k features (e.g., top 5)\n",
        "top_k = 4\n",
        "top_k_features_indices = np.argsort(feature_importances)[::-1][:top_k]\n",
        "\n",
        "# Select only top-k features for training and testing\n",
        "# Use .iloc for integer-location based indexing on both DataFrames\n",
        "X_train_selected = X_train_smote_noisy.iloc[:, top_k_features_indices]\n",
        "X_test_selected = X_test.iloc[:, top_k_features_indices]\n",
        "\n",
        "print(\"Selected Features Indices:\", top_k_features_indices)"
      ],
      "metadata": {
        "colab": {
          "base_uri": "https://localhost:8080/"
        },
        "id": "zIanrIrvVHlX",
        "outputId": "5ac90951-d2fd-4f21-fb68-876aa5fd6483"
      },
      "execution_count": 29,
      "outputs": [
        {
          "output_type": "stream",
          "name": "stdout",
          "text": [
            "Selected Features Indices: [7 5 6 2]\n"
          ]
        }
      ]
    },
    {
      "cell_type": "code",
      "source": [
        "# Train XGBoost with the selected features\n",
        "xgb_model = XGBClassifier(objective=\"multi:softmax\", num_class=len(y.unique()), random_state=42)\n",
        "xgb_model.fit(X_train_selected, y_train_smote)\n",
        "\n",
        "# Evaluate XGBoost\n",
        "y_pred_xgb = xgb_model.predict(X_test_selected)\n",
        "\n",
        "# Results\n",
        "xgb_accuracy = accuracy_score(y_test, y_pred_xgb)\n",
        "print(f\"XGBoost Accuracy with Feature Selection: {xgb_accuracy}\")\n",
        "print(\"XGBoost Classification Report:\\n\", classification_report(y_test, y_pred_xgb))\n"
      ],
      "metadata": {
        "colab": {
          "base_uri": "https://localhost:8080/"
        },
        "id": "7YVHdPVGXObY",
        "outputId": "d484386e-c875-4d3b-cda0-6ae17b071a22"
      },
      "execution_count": 30,
      "outputs": [
        {
          "output_type": "stream",
          "name": "stdout",
          "text": [
            "XGBoost Accuracy with Feature Selection: 0.95\n",
            "XGBoost Classification Report:\n",
            "               precision    recall  f1-score   support\n",
            "\n",
            "           0       1.00      1.00      1.00         2\n",
            "           1       0.50      1.00      0.67         1\n",
            "           3       1.00      1.00      1.00         1\n",
            "           4       1.00      1.00      1.00         5\n",
            "           5       1.00      0.80      0.89         5\n",
            "           6       1.00      1.00      1.00         6\n",
            "\n",
            "    accuracy                           0.95        20\n",
            "   macro avg       0.92      0.97      0.93        20\n",
            "weighted avg       0.97      0.95      0.96        20\n",
            "\n"
          ]
        }
      ]
    },
    {
      "cell_type": "code",
      "source": [
        "print(fertilizer_data.columns)\n",
        "print(crop_data.columns)\n",
        "print(yield_data.columns)"
      ],
      "metadata": {
        "colab": {
          "base_uri": "https://localhost:8080/"
        },
        "id": "HXCW-_e1Tkqg",
        "outputId": "a059eab5-7440-4f24-9a8e-b28b08d99380"
      },
      "execution_count": null,
      "outputs": [
        {
          "output_type": "stream",
          "name": "stdout",
          "text": [
            "Index(['Temperature', 'Humidity', 'Moisture', 'Soil Type', 'Crop Type',\n",
            "       'Nitrogen', 'Potassium', 'Phosphorous', 'Fertilizer Name'],\n",
            "      dtype='object')\n",
            "Index(['N', 'P', 'K', 'temperature', 'humidity', 'ph', 'rainfall', 'label'], dtype='object')\n",
            "Index(['Unnamed: 0', 'Area', 'Item', 'Year', 'hg/ha_yield',\n",
            "       'average_rain_fall_mm_per_year', 'pesticides_tonnes', 'avg_temp'],\n",
            "      dtype='object')\n"
          ]
        }
      ]
    },
    {
      "cell_type": "code",
      "source": [
        "print(yield_data.shape)"
      ],
      "metadata": {
        "colab": {
          "base_uri": "https://localhost:8080/"
        },
        "id": "dYqgJuG2Fayz",
        "outputId": "5670fa6a-e942-4b84-9541-28f77442c8f9"
      },
      "execution_count": null,
      "outputs": [
        {
          "output_type": "stream",
          "name": "stdout",
          "text": [
            "(28242, 8)\n"
          ]
        }
      ]
    },
    {
      "cell_type": "code",
      "source": [
        "from scipy.stats import boxcox\n",
        "# Converting Right Skewed data into Normally Distributed data\n",
        "boxcox(yield_data[\"pesticides_tonnes\"])\n",
        "\n",
        "yield_data[\"avg_boxcox\"], param = boxcox(yield_data[\"pesticides_tonnes\"])\n",
        "yield_data[\"avg_boxcox\"].skew()"
      ],
      "metadata": {
        "colab": {
          "base_uri": "https://localhost:8080/"
        },
        "id": "fmF3RtUMOeKI",
        "outputId": "d47faf2f-6057-4d9f-b471-95c84bfb17d5"
      },
      "execution_count": null,
      "outputs": [
        {
          "output_type": "execute_result",
          "data": {
            "text/plain": [
              "-0.14159023174487217"
            ]
          },
          "metadata": {},
          "execution_count": 33
        }
      ]
    },
    {
      "cell_type": "code",
      "source": [
        "yield_data[\"pesticides_tonnes\"] = yield_data[\"avg_boxcox\"]\n",
        "yield_data.drop(columns=[\"avg_boxcox\"], inplace=True)"
      ],
      "metadata": {
        "id": "bzkAT5HTPdCy"
      },
      "execution_count": null,
      "outputs": []
    },
    {
      "cell_type": "code",
      "source": [
        "scores=[]"
      ],
      "metadata": {
        "id": "fkg8u6ryRTNb"
      },
      "execution_count": null,
      "outputs": []
    },
    {
      "cell_type": "code",
      "source": [
        "#Random Forest Regressor\n",
        "from sklearn.metrics import mean_squared_error, r2_score, mean_absolute_error\n",
        "from sklearn.preprocessing import MinMaxScaler\n",
        "\n",
        "# Encode categorical columns\n",
        "for column in yield_data.select_dtypes(include=['object']).columns:\n",
        "    label_encoder = LabelEncoder()\n",
        "    yield_data[column] = label_encoder.fit_transform(yield_data[column])\n",
        "\n",
        "# Features and target\n",
        "X = yield_data.drop('hg/ha_yield', axis=1)  # Replace 'Yield' with the actual target column name\n",
        "y = yield_data['hg/ha_yield']\n",
        "\n",
        "# Scale numerical features if needed\n",
        "scaler = MinMaxScaler()\n",
        "X_scaled = scaler.fit_transform(X)\n",
        "\n",
        "# Train-test split\n",
        "X_train, X_test, y_train, y_test = train_test_split(X_scaled, y, test_size=0.2, random_state=42)\n",
        "\n",
        "# Train the model\n",
        "yield_model = RandomForestRegressor(n_estimators=100, random_state=42)\n",
        "yield_model.fit(X_train, y_train)\n",
        "\n",
        "# Make predictions\n",
        "y_pred_train = yield_model.predict(X_train)\n",
        "y_pred_test = yield_model.predict(X_test)\n",
        "\n",
        "# Evaluate the model\n",
        "train_rmse = np.sqrt(mean_squared_error(y_train, y_pred_train))\n",
        "test_rmse = np.sqrt(mean_squared_error(y_test, y_pred_test))\n",
        "test_mea = mean_absolute_error(y_test, y_pred_test)\n",
        "r2 = r2_score(y_test, y_pred_test)\n",
        "\n",
        "\n",
        "\n",
        "# Print metrics\n",
        "print(f'Train RMSE: {train_rmse}')\n",
        "print(f'Test RMSE: {test_rmse}')\n",
        "print(f'Test MEA: {test_mea}')\n",
        "print(f'R-squared: {r2}')"
      ],
      "metadata": {
        "colab": {
          "base_uri": "https://localhost:8080/"
        },
        "id": "wKTQb8A13cXb",
        "outputId": "72811062-b522-4256-cfae-c09d2f19f17d"
      },
      "execution_count": null,
      "outputs": [
        {
          "output_type": "stream",
          "name": "stdout",
          "text": [
            "Train RMSE: 3562.316945575963\n",
            "Test RMSE: 9697.228356572316\n",
            "Test MEA: 3489.544768985661\n",
            "R-squared: 0.987036050406303\n"
          ]
        }
      ]
    },
    {
      "cell_type": "code",
      "source": [
        "# Decision Tree Regressor\n",
        "from sklearn.metrics import mean_squared_error, r2_score, mean_absolute_error\n",
        "from sklearn.preprocessing import MinMaxScaler\n",
        "from sklearn.tree import DecisionTreeRegressor\n",
        "from sklearn.model_selection import train_test_split\n",
        "\n",
        "# Features and target\n",
        "X_dtr = yield_data.drop('hg/ha_yield', axis=1)  # Replace 'Yield' with the actual target column name\n",
        "y_dtr = yield_data['hg/ha_yield']\n",
        "\n",
        "# Scale numerical features if needed\n",
        "scaler_dtr = MinMaxScaler()\n",
        "X_scaled_dtr = scaler_dtr.fit_transform(X_dtr)\n",
        "\n",
        "# Train-test split\n",
        "X_train_dtr, X_test_dtr, y_train_dtr, y_test_dtr = train_test_split(X_scaled_dtr, y_dtr, test_size=0.2, random_state=42)\n",
        "\n",
        "# Train the Decision Tree model\n",
        "yield_model_dtr = DecisionTreeRegressor(random_state=42)\n",
        "yield_model_dtr.fit(X_train_dtr, y_train_dtr)\n",
        "\n",
        "# Make predictions\n",
        "y_pred_train_dtr = yield_model_dtr.predict(X_train_dtr)\n",
        "y_pred_test_dtr = yield_model_dtr.predict(X_test_dtr)\n",
        "\n",
        "# Evaluate the model\n",
        "train_rmse_dtr = np.sqrt(mean_squared_error(y_train_dtr, y_pred_train_dtr))\n",
        "test_rmse_dtr = np.sqrt(mean_squared_error(y_test_dtr, y_pred_test_dtr))\n",
        "test_mea_dtr = mean_absolute_error(y_test_dtr, y_pred_test_dtr)\n",
        "r2_dtr = r2_score(y_test_dtr, y_pred_test_dtr)\n",
        "\n",
        "# Print metrics\n",
        "print(f'Decision Tree Regressor - Train RMSE: {train_rmse_dtr}')\n",
        "print(f'Decision Tree Regressor - Test RMSE: {test_rmse_dtr}')\n",
        "print(f'Decision Tree Regressor - Test MAE: {test_mea_dtr}')\n",
        "print(f'Decision Tree Regressor - R-squared: {r2_dtr}')\n"
      ],
      "metadata": {
        "colab": {
          "base_uri": "https://localhost:8080/"
        },
        "id": "mcxv-TVcQIlA",
        "outputId": "a364986b-8411-435e-8e3b-84a6cf16a24d"
      },
      "execution_count": null,
      "outputs": [
        {
          "output_type": "stream",
          "name": "stdout",
          "text": [
            "Decision Tree Regressor - Train RMSE: 0.0\n",
            "Decision Tree Regressor - Test RMSE: 12904.619684000996\n",
            "Decision Tree Regressor - Test MAE: 3776.832536732165\n",
            "Decision Tree Regressor - R-squared: 0.9770420816025899\n"
          ]
        }
      ]
    },
    {
      "cell_type": "code",
      "source": [
        "# Gradient Boosting Regressor\n",
        "from sklearn.ensemble import GradientBoostingRegressor\n",
        "from sklearn.metrics import mean_squared_error, r2_score, mean_absolute_error\n",
        "from sklearn.preprocessing import MinMaxScaler\n",
        "from sklearn.model_selection import train_test_split\n",
        "\n",
        "# Features and target\n",
        "X_gbr = yield_data.drop('hg/ha_yield', axis=1)  # Replace 'hg/ha_yield' with the actual target column name\n",
        "y_gbr = yield_data['hg/ha_yield']\n",
        "\n",
        "# Scale numerical features if needed\n",
        "scaler_gbr = MinMaxScaler()\n",
        "X_scaled_gbr = scaler_gbr.fit_transform(X_gbr)\n",
        "\n",
        "# Train-test split\n",
        "X_train_gbr, X_test_gbr, y_train_gbr, y_test_gbr = train_test_split(X_scaled_gbr, y_gbr, test_size=0.2, random_state=42)\n",
        "\n",
        "# Train the Gradient Boosting Regressor model\n",
        "yield_model_gbr = GradientBoostingRegressor(n_estimators=100, random_state=42)\n",
        "yield_model_gbr.fit(X_train_gbr, y_train_gbr)\n",
        "\n",
        "# Make predictions\n",
        "y_pred_train_gbr = yield_model_gbr.predict(X_train_gbr)\n",
        "y_pred_test_gbr = yield_model_gbr.predict(X_test_gbr)\n",
        "\n",
        "# Evaluate the model\n",
        "train_rmse_gbr = np.sqrt(mean_squared_error(y_train_gbr, y_pred_train_gbr))\n",
        "test_rmse_gbr = np.sqrt(mean_squared_error(y_test_gbr, y_pred_test_gbr))\n",
        "test_mea_gbr = mean_absolute_error(y_test_gbr, y_pred_test_gbr)\n",
        "r2_gbr = r2_score(y_test_gbr, y_pred_test_gbr)\n",
        "\n",
        "# Print metrics\n",
        "print(f'Gradient Boosting Regressor - Train RMSE: {train_rmse_gbr}')\n",
        "print(f'Gradient Boosting Regressor - Test RMSE: {test_rmse_gbr}')\n",
        "print(f'Gradient Boosting Regressor - Test MAE: {test_mea_gbr}')\n",
        "print(f'Gradient Boosting Regressor - R-squared: {r2_gbr}')\n"
      ],
      "metadata": {
        "colab": {
          "base_uri": "https://localhost:8080/"
        },
        "id": "dIE3q72JbKLD",
        "outputId": "eaaa5867-f0e7-47d4-8858-27da31011dc2"
      },
      "execution_count": null,
      "outputs": [
        {
          "output_type": "stream",
          "name": "stdout",
          "text": [
            "Gradient Boosting Regressor - Train RMSE: 34460.61144241805\n",
            "Gradient Boosting Regressor - Test RMSE: 34700.03218700305\n",
            "Gradient Boosting Regressor - Test MAE: 21740.178260954963\n",
            "Gradient Boosting Regressor - R-squared: 0.8340023868441611\n"
          ]
        }
      ]
    },
    {
      "cell_type": "code",
      "source": [
        "import matplotlib.pyplot as plt\n",
        "\n",
        "# Accuracies of the three classifiers\n",
        "model_names = ['Gradient Boost Regressor', 'Decision Tree Regressor', 'Random Forest Regressor']\n",
        "accuracies = [r2_gbr, r2_dtr, r2]\n",
        "\n",
        "# Plotting the bar chart with accuracy on the x-axis and models on the y-axis\n",
        "plt.figure(figsize=(8, 2))\n",
        "plt.barh(model_names, accuracies, color=['blue', 'green', 'orange'], alpha=0.7, height=0.5)\n",
        "\n",
        "# Adding labels and title\n",
        "plt.xlabel('R-Squared', fontsize=12)\n",
        "plt.ylabel('Models', fontsize=12)\n",
        "plt.xlim(0, 1)  # Accuracy is a value between 0 and 1\n",
        "\n",
        "# Displaying the accuracy values on the bars\n",
        "for i, acc in enumerate(accuracies):\n",
        "    plt.text(acc + 0.02, i, f\"{acc:.3f}\", va='center', fontsize=10)\n",
        "\n",
        "# Displaying the graph\n",
        "plt.tight_layout()\n",
        "plt.show()\n"
      ],
      "metadata": {
        "colab": {
          "base_uri": "https://localhost:8080/",
          "height": 207
        },
        "id": "tenCf2bA6k3i",
        "outputId": "4ea2d019-54eb-4026-dc14-74ba498284bb"
      },
      "execution_count": null,
      "outputs": [
        {
          "output_type": "display_data",
          "data": {
            "text/plain": [
              "<Figure size 800x200 with 1 Axes>"
            ],
            "image/png": "[encoded data removed]"
          },
          "metadata": {}
        }
      ]
    },
    {
      "cell_type": "code",
      "source": [
        "print(X.columns)"
      ],
      "metadata": {
        "colab": {
          "base_uri": "https://localhost:8080/"
        },
        "id": "wgrhzHWd-Ntc",
        "outputId": "ebe584f5-30ee-476e-e8bb-c3c5d5743549"
      },
      "execution_count": null,
      "outputs": [
        {
          "output_type": "stream",
          "name": "stdout",
          "text": [
            "Index(['Area', 'Item', 'Year', 'average_rain_fall_mm_per_year',\n",
            "       'pesticides_tonnes', 'avg_temp'],\n",
            "      dtype='object')\n"
          ]
        }
      ]
    },
    {
      "cell_type": "code",
      "source": [
        "from sklearn.preprocessing import LabelEncoder\n",
        "\n",
        "def agro_advisor_v2(temperature, humidity, ph, rainfall, soil_type, nitrogen, potassium, phosphorus, area, item, year):\n",
        "    # 1. Recommend Crop\n",
        "    crop_input = pd.DataFrame(\n",
        "        [[nitrogen, phosphorus, potassium, temperature, humidity, ph, rainfall]],\n",
        "        columns=['N', 'P', 'K', 'temperature', 'humidity', 'ph', 'rainfall']\n",
        "    )\n",
        "    # Predict crop (ensure the crop_model is trained and used)\n",
        "    crop = crop.predict(crop_input)\n",
        "    crop = crop[0]  # Extract scalar if the output is an array\n",
        "    crop_name = crop_le.inverse_transform([crop])[0]  # Inverse transform to get the crop name\n",
        "\n",
        "    # 2. Prepare Fertilizer Recommendation Input\n",
        "    fertilizer_input = pd.DataFrame(\n",
        "        [[temperature, humidity, 0, soil_type, crop, nitrogen, potassium, phosphorus]],\n",
        "        columns=['Temparature', 'Humidity ', 'Moisture', 'Soil Type', 'Crop Type', 'Nitrogen', 'Potassium', 'Phosphorous']\n",
        "    )\n",
        "    # Predict fertilizer (ensure the fertilizer_model is trained and used)\n",
        "    fertilizer = fertilizer_model.predict(fertilizer_input)\n",
        "    fertilizer = fertilizer[0]  # Extract scalar if the output is an array\n",
        "    fertilizer_name = fertilizer_name_le.inverse_transform([fertilizer])[0]  # Inverse transform to get fertilizer name\n",
        "\n",
        "    # 3. Prepare Yield Prediction Input\n",
        "    yield_input = pd.DataFrame(\n",
        "        [[area, item, year, temperature, rainfall, ph]],\n",
        "        columns=['area', 'item', 'year', 'average_rain_fall_mm_per_year', 'pesticides_tonnes', 'avg_temp']\n",
        "    )\n",
        "    # Predict yield (ensure the yield_model is trained and used)\n",
        "    predicted_yield = yield_model.predict(yield_input)\n",
        "    predicted_yield = predicted_yield[0]  # Extract scalar if the output is an array\n",
        "\n",
        "    return crop_name, fertilizer_name, predicted_yield\n",
        "\n",
        "\n",
        "# Input for Crop Recommendation\n",
        "example_input = {\n",
        "    \"temperature\": 30,\n",
        "    \"humidity\": 70,\n",
        "    \"ph\": 6.5,\n",
        "    \"rainfall\": 200,\n",
        "    \"soil_type\": 2,  # Coded\n",
        "    \"nitrogen\": 50,\n",
        "    \"potassium\": 30,\n",
        "    \"phosphorus\": 40,\n",
        "    \"area\": 100,    # Example value for area\n",
        "    \"item\": 1,      # Example value for item (encoded)\n",
        "    \"year\": 2023    # Example value for year\n",
        "}\n",
        "\n",
        "# Step 1: Get Recommended Crop, Fertilizer, and Predicted Yield by calling the function once\n",
        "crop, fertilizer, predicted_yield = agro_advisor_v2(\n",
        "    temperature=example_input[\"temperature\"],\n",
        "    humidity=example_input[\"humidity\"],\n",
        "    ph=example_input[\"ph\"],\n",
        "    rainfall=example_input[\"rainfall\"],\n",
        "    soil_type=example_input[\"soil_type\"],\n",
        "    nitrogen=example_input[\"nitrogen\"],\n",
        "    potassium=example_input[\"potassium\"],\n",
        "    phosphorus=example_input[\"phosphorus\"],\n",
        "    area=example_input[\"area\"],\n",
        "    item=example_input[\"item\"],\n",
        "    year=example_input[\"year\"]\n",
        ")\n",
        "\n",
        "# Print the results\n",
        "print(f\"Recommended Crop: {crop}\")\n",
        "print(f\"Recommended Fertilizer: {fertilizer}\")\n",
        "print(f\"Predicted Yield: {predicted_yield} hg/ha\")\n"
      ],
      "metadata": {
        "colab": {
          "base_uri": "https://localhost:8080/"
        },
        "id": "dKrVPKCoFazU",
        "outputId": "7a69e6a3-7fa3-4c31-8d35-98afd4ff0825"
      },
      "execution_count": null,
      "outputs": [
        {
          "output_type": "stream",
          "name": "stdout",
          "text": [
            "Recommended Crop: mango\n",
            "Recommended Fertilizer: Urea\n",
            "Predicted Yield: 165694.2 hg/ha\n"
          ]
        },
        {
          "output_type": "stream",
          "name": "stderr",
          "text": [
            "/usr/local/lib/python3.10/dist-packages/sklearn/base.py:486: UserWarning: X has feature names, but RandomForestRegressor was fitted without feature names\n",
            "  warnings.warn(\n"
          ]
        }
      ]
    }
  ]
}